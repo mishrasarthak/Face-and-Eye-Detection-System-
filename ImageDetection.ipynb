{
 "cells": [
  {
   "cell_type": "code",
   "execution_count": 1,
   "metadata": {},
   "outputs": [
    {
     "name": "stdout",
     "output_type": "stream",
     "text": [
      "Requirement already satisfied: opencv-python in c:\\users\\clever nerd\\anaconda3\\lib\\site-packages (4.1.0.25)\n",
      "Requirement already satisfied: numpy>=1.14.5 in c:\\users\\clever nerd\\anaconda3\\lib\\site-packages (from opencv-python) (1.16.2)\n"
     ]
    }
   ],
   "source": [
    "#install opencv library\n",
    "!pip install opencv-python"
   ]
  },
  {
   "cell_type": "code",
   "execution_count": 2,
   "metadata": {},
   "outputs": [],
   "source": [
    "#Real Time Object Detection\n",
    "\n",
    "import cv2 #computer vision\n",
    "\n",
    "#HaarCascade-->They are trained dataset which can detect the objects for which they have been trained for \n",
    "\n",
    "eyecascade = 'C:\\\\Users\\\\clever nerd\\\\Downloads\\\\haarcascade_eye.xml'\n",
    "facecascade = 'C:\\\\Users\\\\clever nerd\\\\Downloads\\\\haarcascade_frontalface_default.xml'\n",
    "\n",
    "#Create a cascade classifier object \n",
    "\n",
    "eye_cascade = cv2.CascadeClassifier(eyecascade)\n",
    "face_cascade = cv2.CascadeClassifier(facecascade)\n",
    "\n",
    "#create a video capture object\n",
    "#cv2-->videoCapture(Int_Value)\n",
    "\n",
    "video_capture = cv2.VideoCapture(0) #0-->default webcam\n",
    "\n",
    "while True:\n",
    "    ret,img = video_capture.read() #it starts reading the feed from camera frame by frame\n",
    "    #img will get next frame in the camera\n",
    "    #ret will obtain return value from getting the camera\n",
    "    gray = cv2.cvtColor(img,cv2.COLOR_BGR2GRAY) #BGR:Blue Green Red\n",
    "    #detect object: eyes and face\n",
    "    #detectMultiScale()-->used to detect objects\n",
    "    #scaleFactor-->it is used for resizing\n",
    "    #minNeighbors-->how many more objects you need to detect\n",
    "    faces = face_cascade.detectMultiScale(gray , scaleFactor=1.3 , minNeighbors=5 , minSize=(30,30))\n",
    "    \n",
    "    for x,y,w,h in faces:\n",
    "        #x-x radius(distance from left) , y- y radius(distance from up) w- width, h -height\n",
    "        #draw a rectangle around faces\n",
    "        img_1 = cv2.rectangle(img , (x,y) , (x+w , y+h) , (0,255,0) , 2 ) #rectangle for face\n",
    "        #create a region of interest ROI -->rectangle\n",
    "        roi_gray = gray[y:y+h , x:x+w] #gray image used for processing\n",
    "        roi_color=img[y:y+h , x:x+h]  #color image used for output\n",
    "        \n",
    "        eyes = eye_cascade.detectMultiScale(roi_gray)\n",
    "        for(ex,ey,ew,eh) in eyes:\n",
    "            cv2.rectangle(roi_color , (ex,ey) , (ex+ew , ey+eh) , (0,2550) , 2) #rectangle for eye\n",
    "            \n",
    "    cv2.imshow('MyFace' , img) #Create output frame\n",
    "    \n",
    "    #Close The Frame\n",
    "    k = cv2.waitKey(5) & 0xFF # standard code for ESC key\n",
    "    if k == 27: #27 is the ASCII value of ESC\n",
    "        break\n",
    "    \n",
    "#Close The Window\n",
    "\n",
    "video_capture.release()\n",
    "cv2.destroyAllWindows()"
   ]
  },
  {
   "cell_type": "code",
   "execution_count": null,
   "metadata": {},
   "outputs": [],
   "source": []
  }
 ],
 "metadata": {
  "kernelspec": {
   "display_name": "Python 3",
   "language": "python",
   "name": "python3"
  },
  "language_info": {
   "codemirror_mode": {
    "name": "ipython",
    "version": 3
   },
   "file_extension": ".py",
   "mimetype": "text/x-python",
   "name": "python",
   "nbconvert_exporter": "python",
   "pygments_lexer": "ipython3",
   "version": "3.7.3"
  }
 },
 "nbformat": 4,
 "nbformat_minor": 2
}
