{
 "cells": [
  {
   "cell_type": "code",
   "execution_count": null,
   "metadata": {},
   "outputs": [],
   "source": [
    "import urllib.request #used to fetch data from url\n",
    "import cv2\n",
    "import numpy as np\n",
    "import os \n",
    " \n",
    "def store_images():\n",
    "    images_link = 'http://www.image-net.org/api/text/imagenet.synset.geturls?wnid=n07764155'\n",
    "    image_url = urllib.request.urlopen(images_link).read().decode()\n",
    "    pic_num = 1\n",
    "    \n",
    "    if not os.path.exists('D:\\\\train_images'):\n",
    "        os.makedirs('D:\\\\train_images')\n",
    "        \n",
    "    for i in image_url.split('\\n'):\n",
    "        try:\n",
    "            print(i)\n",
    "            urllib.request.urlretrieve(i,'D:\\\\train_images\\\\'+str(pic_num)+'.jpg')\n",
    "            img = cv2.imread('D:\\\\train_images\\\\'+str(pic_num)+'.jpg')\n",
    "            #img = cv2.imread('D:\\\\train_images\\\\'+str(pic_num)+'.jpg', cv2.IMREAD_GRAYSCALE)\n",
    "            resized_image = cv2.resize(img ,(100,100))\n",
    "            cv2.imwrite('D:\\\\train_images\\\\'+str(pic_num)+'.jpg' , resized_image)\n",
    "            pic_num += 1\n",
    "        \n",
    "        except Exception as e:\n",
    "            print(str(e))\n",
    "            \n",
    "store_images()\n",
    "            \n",
    "    \n"
   ]
  },
  {
   "cell_type": "code",
   "execution_count": null,
   "metadata": {},
   "outputs": [],
   "source": []
  },
  {
   "cell_type": "markdown",
   "metadata": {},
   "source": []
  }
 ],
 "metadata": {
  "kernelspec": {
   "display_name": "Python 3",
   "language": "python",
   "name": "python3"
  },
  "language_info": {
   "codemirror_mode": {
    "name": "ipython",
    "version": 3
   },
   "file_extension": ".py",
   "mimetype": "text/x-python",
   "name": "python",
   "nbconvert_exporter": "python",
   "pygments_lexer": "ipython3",
   "version": "3.7.3"
  }
 },
 "nbformat": 4,
 "nbformat_minor": 2
}
